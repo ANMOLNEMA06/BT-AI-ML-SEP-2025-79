{
 "cells": [
  {
   "cell_type": "code",
   "execution_count": 1,
   "id": "d8a3a7f0",
   "metadata": {
    "_cell_guid": "b1076dfc-b9ad-4769-8c92-a6c4dae69d19",
    "_uuid": "8f2839f25d086af736a60e9eeb907d3b93b6e0e5",
    "execution": {
     "iopub.execute_input": "2025-09-13T14:36:22.780677Z",
     "iopub.status.busy": "2025-09-13T14:36:22.780358Z",
     "iopub.status.idle": "2025-09-13T14:36:24.737375Z",
     "shell.execute_reply": "2025-09-13T14:36:24.736217Z"
    },
    "papermill": {
     "duration": 1.963174,
     "end_time": "2025-09-13T14:36:24.739083",
     "exception": false,
     "start_time": "2025-09-13T14:36:22.775909",
     "status": "completed"
    },
    "tags": []
   },
   "outputs": [
    {
     "name": "stdout",
     "output_type": "stream",
     "text": [
      "/kaggle/input/house-prices/sample_submission.csv\n",
      "/kaggle/input/house-prices/data_description.txt\n",
      "/kaggle/input/house-prices/train.csv\n",
      "/kaggle/input/house-prices/test.csv\n"
     ]
    }
   ],
   "source": [
    "# This Python 3 environment comes with many helpful analytics libraries installed\n",
    "# It is defined by the kaggle/python Docker image: https://github.com/kaggle/docker-python\n",
    "# For example, here's several helpful packages to load\n",
    "\n",
    "import numpy as np # linear algebra\n",
    "import pandas as pd # data processing, CSV file I/O (e.g. pd.read_csv)\n",
    "\n",
    "# Input data files are available in the read-only \"../input/\" directory\n",
    "# For example, running this (by clicking run or pressing Shift+Enter) will list all files under the input directory\n",
    "\n",
    "import os\n",
    "for dirname, _, filenames in os.walk('/kaggle/input'):\n",
    "    for filename in filenames:\n",
    "        print(os.path.join(dirname, filename))\n",
    "\n",
    "# You can write up to 20GB to the current directory (/kaggle/working/) that gets preserved as output when you create a version using \"Save & Run All\" \n",
    "# You can also write temporary files to /kaggle/temp/, but they won't be saved outside of the current session"
   ]
  },
  {
   "cell_type": "code",
   "execution_count": 2,
   "id": "90a79c62",
   "metadata": {
    "execution": {
     "iopub.execute_input": "2025-09-13T14:36:24.746368Z",
     "iopub.status.busy": "2025-09-13T14:36:24.745894Z",
     "iopub.status.idle": "2025-09-13T14:36:27.351998Z",
     "shell.execute_reply": "2025-09-13T14:36:27.351086Z"
    },
    "papermill": {
     "duration": 2.611909,
     "end_time": "2025-09-13T14:36:27.354201",
     "exception": false,
     "start_time": "2025-09-13T14:36:24.742292",
     "status": "completed"
    },
    "tags": []
   },
   "outputs": [],
   "source": [
    "import pandas as pd\n",
    "import numpy as np\n",
    "from sklearn.model_selection import train_test_split, cross_val_score\n",
    "from sklearn.preprocessing import StandardScaler, LabelEncoder\n",
    "from sklearn.linear_model import LinearRegression\n",
    "from sklearn.ensemble import RandomForestRegressor\n",
    "from xgboost import XGBRegressor\n",
    "from sklearn.metrics import mean_squared_error\n"
   ]
  },
  {
   "cell_type": "code",
   "execution_count": 3,
   "id": "3529abea",
   "metadata": {
    "execution": {
     "iopub.execute_input": "2025-09-13T14:36:27.361493Z",
     "iopub.status.busy": "2025-09-13T14:36:27.360927Z",
     "iopub.status.idle": "2025-09-13T14:36:27.446806Z",
     "shell.execute_reply": "2025-09-13T14:36:27.445549Z"
    },
    "papermill": {
     "duration": 0.09144,
     "end_time": "2025-09-13T14:36:27.448730",
     "exception": false,
     "start_time": "2025-09-13T14:36:27.357290",
     "status": "completed"
    },
    "tags": []
   },
   "outputs": [
    {
     "name": "stdout",
     "output_type": "stream",
     "text": [
      "(1460, 81)\n",
      "(1459, 80)\n"
     ]
    }
   ],
   "source": [
    "import pandas as pd\n",
    "\n",
    "train = pd.read_csv(\"/kaggle/input/house-prices/train.csv\")\n",
    "test = pd.read_csv(\"/kaggle/input/house-prices/test.csv\")\n",
    "\n",
    "print(train.shape)\n",
    "print(test.shape)\n"
   ]
  },
  {
   "cell_type": "code",
   "execution_count": 4,
   "id": "fd2419a9",
   "metadata": {
    "execution": {
     "iopub.execute_input": "2025-09-13T14:36:27.456160Z",
     "iopub.status.busy": "2025-09-13T14:36:27.455774Z",
     "iopub.status.idle": "2025-09-13T14:36:27.608221Z",
     "shell.execute_reply": "2025-09-13T14:36:27.607120Z"
    },
    "papermill": {
     "duration": 0.158447,
     "end_time": "2025-09-13T14:36:27.610311",
     "exception": false,
     "start_time": "2025-09-13T14:36:27.451864",
     "status": "completed"
    },
    "tags": []
   },
   "outputs": [],
   "source": [
    "# Numeric columns (excluding target)\n",
    "num_cols = train.select_dtypes(include=['int64', 'float64']).columns.drop(\"SalePrice\")\n",
    "\n",
    "# Fill numeric missing values\n",
    "train[num_cols] = train[num_cols].fillna(train[num_cols].median())\n",
    "test[num_cols] = test[num_cols].fillna(test[num_cols].median())\n",
    "\n",
    "# Categorical columns\n",
    "cat_cols = train.select_dtypes(include=['object']).columns\n",
    "for col in cat_cols:\n",
    "    train[col] = train[col].fillna(train[col].mode()[0])\n",
    "    test[col] = test[col].fillna(test[col].mode()[0])\n",
    "\n",
    "# Label Encoding\n",
    "from sklearn.preprocessing import LabelEncoder\n",
    "for col in cat_cols:\n",
    "    lbl = LabelEncoder()\n",
    "    train[col] = lbl.fit_transform(train[col].astype(str))\n",
    "    test[col] = lbl.transform(test[col].astype(str))\n"
   ]
  },
  {
   "cell_type": "code",
   "execution_count": 5,
   "id": "fead354f",
   "metadata": {
    "execution": {
     "iopub.execute_input": "2025-09-13T14:36:27.618224Z",
     "iopub.status.busy": "2025-09-13T14:36:27.617413Z",
     "iopub.status.idle": "2025-09-13T14:36:27.635029Z",
     "shell.execute_reply": "2025-09-13T14:36:27.633804Z"
    },
    "papermill": {
     "duration": 0.023545,
     "end_time": "2025-09-13T14:36:27.636999",
     "exception": false,
     "start_time": "2025-09-13T14:36:27.613454",
     "status": "completed"
    },
    "tags": []
   },
   "outputs": [],
   "source": [
    "X = train.drop(\"SalePrice\", axis=1)\n",
    "y = train[\"SalePrice\"]\n",
    "\n",
    "X_train, X_val, y_train, y_val = train_test_split(X, y, test_size=0.2, random_state=42)\n"
   ]
  },
  {
   "cell_type": "code",
   "execution_count": 6,
   "id": "7ee145c9",
   "metadata": {
    "execution": {
     "iopub.execute_input": "2025-09-13T14:36:27.643889Z",
     "iopub.status.busy": "2025-09-13T14:36:27.643542Z",
     "iopub.status.idle": "2025-09-13T14:36:27.714088Z",
     "shell.execute_reply": "2025-09-13T14:36:27.713045Z"
    },
    "papermill": {
     "duration": 0.079475,
     "end_time": "2025-09-13T14:36:27.719539",
     "exception": false,
     "start_time": "2025-09-13T14:36:27.640064",
     "status": "completed"
    },
    "tags": []
   },
   "outputs": [
    {
     "name": "stdout",
     "output_type": "stream",
     "text": [
      "Linear Regression RMSE: 35344.207068648015\n"
     ]
    }
   ],
   "source": [
    "lr = LinearRegression()\n",
    "lr.fit(X_train, y_train)\n",
    "y_pred_lr = lr.predict(X_val)\n",
    "print(\"Linear Regression RMSE:\", np.sqrt(mean_squared_error(y_val, y_pred_lr)))\n"
   ]
  },
  {
   "cell_type": "code",
   "execution_count": 7,
   "id": "6a55888a",
   "metadata": {
    "execution": {
     "iopub.execute_input": "2025-09-13T14:36:27.733054Z",
     "iopub.status.busy": "2025-09-13T14:36:27.732622Z",
     "iopub.status.idle": "2025-09-13T14:36:29.733530Z",
     "shell.execute_reply": "2025-09-13T14:36:29.732744Z"
    },
    "papermill": {
     "duration": 2.007956,
     "end_time": "2025-09-13T14:36:29.735115",
     "exception": false,
     "start_time": "2025-09-13T14:36:27.727159",
     "status": "completed"
    },
    "tags": []
   },
   "outputs": [
    {
     "name": "stdout",
     "output_type": "stream",
     "text": [
      "Random Forest RMSE: 29001.533674561608\n"
     ]
    }
   ],
   "source": [
    "rf = RandomForestRegressor(n_estimators=100, random_state=42)\n",
    "rf.fit(X_train, y_train)\n",
    "y_pred_rf = rf.predict(X_val)\n",
    "print(\"Random Forest RMSE:\", np.sqrt(mean_squared_error(y_val, y_pred_rf)))\n"
   ]
  },
  {
   "cell_type": "code",
   "execution_count": 8,
   "id": "e9196240",
   "metadata": {
    "execution": {
     "iopub.execute_input": "2025-09-13T14:36:29.742083Z",
     "iopub.status.busy": "2025-09-13T14:36:29.741754Z",
     "iopub.status.idle": "2025-09-13T14:36:30.125353Z",
     "shell.execute_reply": "2025-09-13T14:36:30.124056Z"
    },
    "papermill": {
     "duration": 0.389939,
     "end_time": "2025-09-13T14:36:30.127962",
     "exception": false,
     "start_time": "2025-09-13T14:36:29.738023",
     "status": "completed"
    },
    "tags": []
   },
   "outputs": [
    {
     "name": "stdout",
     "output_type": "stream",
     "text": [
      "XGBoost RMSE: 25732.21890888963\n"
     ]
    }
   ],
   "source": [
    "xgb = XGBRegressor(n_estimators=100, learning_rate=0.1, random_state=42)\n",
    "xgb.fit(X_train, y_train)\n",
    "y_pred_xgb = xgb.predict(X_val)\n",
    "print(\"XGBoost RMSE:\", np.sqrt(mean_squared_error(y_val, y_pred_xgb)))\n"
   ]
  },
  {
   "cell_type": "code",
   "execution_count": 9,
   "id": "0e17711d",
   "metadata": {
    "execution": {
     "iopub.execute_input": "2025-09-13T14:36:30.137197Z",
     "iopub.status.busy": "2025-09-13T14:36:30.135829Z",
     "iopub.status.idle": "2025-09-13T14:36:39.936510Z",
     "shell.execute_reply": "2025-09-13T14:36:39.935450Z"
    },
    "papermill": {
     "duration": 9.806336,
     "end_time": "2025-09-13T14:36:39.937936",
     "exception": false,
     "start_time": "2025-09-13T14:36:30.131600",
     "status": "completed"
    },
    "tags": []
   },
   "outputs": [
    {
     "name": "stdout",
     "output_type": "stream",
     "text": [
      "Cross-Validation RMSE: 29674.275430996648\n"
     ]
    }
   ],
   "source": [
    "scores = cross_val_score(rf, X, y, cv=5, scoring='neg_root_mean_squared_error')\n",
    "print(\"Cross-Validation RMSE:\", -scores.mean())\n"
   ]
  },
  {
   "cell_type": "code",
   "execution_count": 10,
   "id": "cce49cdb",
   "metadata": {
    "execution": {
     "iopub.execute_input": "2025-09-13T14:36:39.944840Z",
     "iopub.status.busy": "2025-09-13T14:36:39.944545Z",
     "iopub.status.idle": "2025-09-13T14:36:39.970345Z",
     "shell.execute_reply": "2025-09-13T14:36:39.969608Z"
    },
    "papermill": {
     "duration": 0.031221,
     "end_time": "2025-09-13T14:36:39.972109",
     "exception": false,
     "start_time": "2025-09-13T14:36:39.940888",
     "status": "completed"
    },
    "tags": []
   },
   "outputs": [],
   "source": [
    "final_preds = xgb.predict(test)\n",
    "submission = pd.DataFrame({\n",
    "    \"Id\": test[\"Id\"],\n",
    "    \"SalePrice\": final_preds\n",
    "})\n",
    "submission.to_csv(\"submission.csv\", index=False)\n"
   ]
  }
 ],
 "metadata": {
  "kaggle": {
   "accelerator": "none",
   "dataSources": [
    {
     "datasetId": 8218121,
     "sourceId": 12983980,
     "sourceType": "datasetVersion"
    }
   ],
   "dockerImageVersionId": 31089,
   "isGpuEnabled": false,
   "isInternetEnabled": false,
   "language": "python",
   "sourceType": "notebook"
  },
  "kernelspec": {
   "display_name": "Python 3",
   "language": "python",
   "name": "python3"
  },
  "language_info": {
   "codemirror_mode": {
    "name": "ipython",
    "version": 3
   },
   "file_extension": ".py",
   "mimetype": "text/x-python",
   "name": "python",
   "nbconvert_exporter": "python",
   "pygments_lexer": "ipython3",
   "version": "3.11.13"
  },
  "papermill": {
   "default_parameters": {},
   "duration": 23.461925,
   "end_time": "2025-09-13T14:36:40.696745",
   "environment_variables": {},
   "exception": null,
   "input_path": "__notebook__.ipynb",
   "output_path": "__notebook__.ipynb",
   "parameters": {},
   "start_time": "2025-09-13T14:36:17.234820",
   "version": "2.6.0"
  }
 },
 "nbformat": 4,
 "nbformat_minor": 5
}
